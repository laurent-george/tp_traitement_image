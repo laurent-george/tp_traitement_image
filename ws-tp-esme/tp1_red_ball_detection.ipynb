{
 "cells": [
  {
   "cell_type": "markdown",
   "metadata": {
    "slideshow": {
     "slide_type": "skip"
    }
   },
   "source": [
    "# Vision industrielle - TP initiatiation au traitement d'image avec Python\n",
    "\n",
    "L'objectif de ce TP est de découvrir et d'utiliser des outils de traitement d'images. Le langage de programmation Python sera utilisé, ainsi que les librairies scientifiques suivantes:\n",
    "\n",
    "    - scikit-image\n",
    "    - NumPy\n",
    "    - SciPy\n",
    "    - matplotlib\n",
    "    \n",
    "Ces différentes libairies font partie de la *stack* scientifique disponible pour python. D'autres librairies telles que OpenCV, scikit-learn, pandas vous seront présentées lors des TPs suivants."
   ]
  },
  {
   "cell_type": "markdown",
   "metadata": {
    "slideshow": {
     "slide_type": "skip"
    }
   },
   "source": [
    "## A la fin de ce TP vous devriez être capables\n",
    "\n",
    "\t- d'ouvrir une image à partir d'un fichier\n",
    "\t- d'extraire les contours d'une image en niveau de gris\n",
    "\t- d'effectuer des opérations de filtrage linéaire\n",
    "\t- d'effectuer des opérations morphologiques\n",
    "\t- de détecter la position d'un objet coloré\n",
    "\n"
   ]
  },
  {
   "cell_type": "markdown",
   "metadata": {
    "slideshow": {
     "slide_type": "skip"
    }
   },
   "source": [
    "## Aide \n",
    "pour obtenir de l'aide sur une fonction : \n",
    "   \n",
    "    - ?nom_fonction \n",
    "    - help(nom_fonction)\n",
    "    \n",
    "Voici une liste de ressources en ligne qui pourront vous être utiles au cours du TP:\n",
    "\n",
    " - IPython notebook introduction: http://opentechschool.github.io/python-data-intro/core/notebook.html\n",
    " - Numpy quickstart: https://docs.scipy.org/doc/numpy-dev/user/quickstart.html\n",
    " - Numpy pour le traitement d'image http://scikit-image.org/docs/dev/user_guide/numpy_images.html\n",
    "\n",
    " "
   ]
  },
  {
   "cell_type": "markdown",
   "metadata": {
    "slideshow": {
     "slide_type": "skip"
    }
   },
   "source": [
    "### Exécuter la cellule suivante afin de charger l'ensemble des outils nécessaires"
   ]
  },
  {
   "cell_type": "code",
   "execution_count": null,
   "metadata": {
    "slideshow": {
     "slide_type": "skip"
    }
   },
   "outputs": [],
   "source": [
    "from functools import partial\n",
    "import numpy as np\n",
    "import scipy.ndimage\n",
    "import matplotlib.pyplot as plt\n",
    "import matplotlib.patches as mpatches\n",
    "import imageio\n",
    "import skimage.morphology\n",
    "import skimage.segmentation\n",
    "import skimage.feature\n",
    "import skimage\n",
    "%matplotlib notebook\n",
    "\n",
    "plt.rcParams['image.cmap'] = 'gray'\n",
    "plt.rcParams['image.interpolation'] = 'none'\n",
    "\n",
    "def format_coord(x, y, image):\n",
    "    x = int(x + 0.5)\n",
    "    y = int(y + 0.5)\n",
    "    try:\n",
    "        val = str(image[y, x])\n",
    "    except IndexError:\n",
    "        val = \"?\"\n",
    "    return \"color={} @ [{}, {}]\".format(val, y, x)\n",
    "\n",
    "def display_image_nb(image, title=''):\n",
    "    fig, ax = plt.subplots(1,1)\n",
    "    ax.matshow(image, cmap=plt.gray())\n",
    "    ax.set_xlabel(title)\n",
    "    ax.format_coord = partial(format_coord, image=image)\n",
    "    return fig, ax\n",
    "\n",
    "def display_image_color(image, title=''):\n",
    "    fig, ax = plt.subplots(1,1)\n",
    "    ax.imshow(image)\n",
    "    ax.set_xlabel(title)\n",
    "    ax.format_coord = partial(format_coord, image=image)\n",
    "    return fig, ax\n",
    "\n",
    "def draw_rectangle(y1, x1, y2, x2, color='red', ax=None):\n",
    "    \"\"\" Add a rectangle on an image \"\"\"\n",
    "    if ax is None:\n",
    "        ax = pyplot.gca()\n",
    "    rect = mpatches.Rectangle((x1, y1), x2 - x1, y2 - y1,\n",
    "                              fill=False, edgecolor='red', linewidth=2)\n",
    "    ax.add_patch(rect)\n",
    "\n",
    "print(\"OK let's go\")"
   ]
  },
  {
   "cell_type": "markdown",
   "metadata": {
    "slideshow": {
     "slide_type": "skip"
    }
   },
   "source": [
    "## 1. Introduction au tableau numpy pour le traitement d'image\n",
    "\n",
    "Les images peuvent être représentées sous forme de tableaux multi-dimensionnels. Comme nous sommes en Python, nous utilisons la librairie NumPy (NumPy is the fundamental package for scientific computing with Python: http://www.numpy.org).\n",
    "\n",
    "Une image en niveaux de gris correspond à un tableau à deux dimensions. Le code suivant permet de créer un tel tableau."
   ]
  },
  {
   "cell_type": "code",
   "execution_count": null,
   "metadata": {
    "slideshow": {
     "slide_type": "skip"
    }
   },
   "outputs": [],
   "source": [
    "image_niveau_de_gris = np.array([[8, 9, 10, 11], [5, 3, 2, 1], [8, 9, 0, 0]])\n",
    "print(image_niveau_de_gris)"
   ]
  },
  {
   "cell_type": "code",
   "execution_count": null,
   "metadata": {},
   "outputs": [],
   "source": []
  },
  {
   "cell_type": "code",
   "execution_count": null,
   "metadata": {
    "slideshow": {
     "slide_type": "skip"
    }
   },
   "outputs": [],
   "source": [
    "fig, ax = display_image_nb(image_niveau_de_gris)\n"
   ]
  },
  {
   "cell_type": "markdown",
   "metadata": {
    "slideshow": {
     "slide_type": "skip"
    }
   },
   "source": [
    "<span style=\"color:red\">Questions</span>\n",
    "\n",
    "Quelle est valeur associée au pixel [0, 2]  (i.e ligne 0, colonne 2)\n",
    "\n",
    "\n"
   ]
  },
  {
   "cell_type": "code",
   "execution_count": null,
   "metadata": {
    "slideshow": {
     "slide_type": "skip"
    }
   },
   "outputs": [],
   "source": []
  },
  {
   "cell_type": "markdown",
   "metadata": {
    "slideshow": {
     "slide_type": "skip"
    }
   },
   "source": [
    "Vous pouvez accéder aux valeurs contenues dans l'image en utilisant la syntaxe suivante :\n",
    "\n",
    "  image[ligne, colonne]\n",
    "\n",
    "Compléter le code suivant pour acéder à la valeur associée au pixel de la ligne 0 et de la colonne 2"
   ]
  },
  {
   "cell_type": "code",
   "execution_count": null,
   "metadata": {
    "scrolled": true,
    "slideshow": {
     "slide_type": "skip"
    }
   },
   "outputs": [],
   "source": [
    "image_niveau_de_gris[]"
   ]
  },
  {
   "cell_type": "markdown",
   "metadata": {
    "slideshow": {
     "slide_type": "skip"
    }
   },
   "source": [
    "Pour représenter une image avec plusieurs canaux (par exemple une image RGB), on utilise une nouvelle dimension."
   ]
  },
  {
   "cell_type": "code",
   "execution_count": null,
   "metadata": {
    "scrolled": false,
    "slideshow": {
     "slide_type": "slide"
    }
   },
   "outputs": [],
   "source": [
    "image_rgb = [[[255, 0, 0], [0, 255, 0], [0, 0, 255]], [[40, 40, 40], [100, 0, 10], [10, 0, 50]]]\n",
    "image_rgb = np.array(image_rgb, dtype=np.uint8)\n",
    "display_image_color(image_rgb)"
   ]
  },
  {
   "cell_type": "markdown",
   "metadata": {
    "slideshow": {
     "slide_type": "skip"
    }
   },
   "source": [
    "Pour sélectionner un canal d'une image couleur vous pouvez utiliser la syntaxe suivante: \n",
    "    \n",
    "    image[:, :, 0] qui selectionnera seulement le canal 0 (i.e Red pour une image RGB)\n",
    "    image[:, :, 1] qui selectionnera le canal 1, etc..\n",
    "    image[:, :, (0,1)] qui selectionnera le canal 0 et le canal 1\n",
    "    \n",
    "Pour remplacer la valeur d'un pixel vous pouvez utiliser la syntaxe suivante:\n",
    "\n",
    "    image[1,5,0] = 8  # qui remplacera le contenu du pixel [1,5] du canal 0 \n",
    "\n",
    "Vous pouvez aussi remplacer tous les pixels d'un canal\n",
    "\n",
    "    image[:, :, 0] = 8\n"
   ]
  },
  {
   "cell_type": "markdown",
   "metadata": {
    "slideshow": {
     "slide_type": "slide"
    }
   },
   "source": [
    "<span style=\"color:red\">Questions</span>\n",
    "\n",
    "Dans l'image *image_rgb* : enlever la composante rouge."
   ]
  },
  {
   "cell_type": "code",
   "execution_count": null,
   "metadata": {
    "slideshow": {
     "slide_type": "subslide"
    }
   },
   "outputs": [],
   "source": [
    "image_rgb[] =   # enlever le rouge..\n",
    "display_image_color(image_rgb)\n"
   ]
  },
  {
   "cell_type": "markdown",
   "metadata": {},
   "source": [
    "C'est tout pour l'introduction sur les tableaux NumPy. N'hésitez pas à tester la construction de tableau et les opérations par vous-même, ainsi que les quelques fonctions de la cellule suivante.\n",
    "\n",
    "plus d'info ici:\n",
    "http://www.scipy-lectures.org/intro/numpy/array_object.html\n"
   ]
  },
  {
   "cell_type": "code",
   "execution_count": null,
   "metadata": {},
   "outputs": [],
   "source": [
    "# Test np.ones\n",
    "\n",
    "# Test np.random.random\n",
    "\n",
    "# what is the .shape of an array ?"
   ]
  },
  {
   "cell_type": "markdown",
   "metadata": {},
   "source": [
    "# 2. Opérations sur les images:\n"
   ]
  },
  {
   "cell_type": "markdown",
   "metadata": {},
   "source": [
    "Dans cette partie nous travaillerons avec l'image de référence *chelsea*. \n",
    "\n",
    "Vous pouvez néanmoins utiliser l'image que vous souhaitez."
   ]
  },
  {
   "cell_type": "code",
   "execution_count": null,
   "metadata": {},
   "outputs": [],
   "source": [
    "from skimage.data import chelsea\n",
    "%matplotlib notebook\n",
    "image = chelsea()\n",
    "image_nb = skimage.color.rgb2grey(image)\n",
    "# ?chelsea\n",
    "display_image_color(image)\n",
    "display_image_nb(image_nb)\n",
    "#import imageio\n",
    "#souris = imageio.imread('http://static.wamiz.fr/images/animaux/rongeurs/medium/souris.jpg')\n",
    "#display_image_color(souris)"
   ]
  },
  {
   "cell_type": "markdown",
   "metadata": {},
   "source": [
    "## 2.1 Opérateurs pixels à pixels\n",
    "\n",
    "- Donner la dimension de l'image\n",
    "- Calculer la moyenne, max, min et somme de l'image\n",
    "- Créer le mask binaire (i.e une image binaire) qui vaut 1 partout où l'image *image_nb* a une valeur <= 0.4\n",
    "- Créer une nouvelle image *image_nb_thresholded* dans laquelle les pixels du masque sont mis à 0\n",
    "- Afficher cette image\n",
    "- Créer et afficher une nouvelle image dans laquelle les pixels de valeurs comprises entre 0.4 et 0.8 sont mis à zéros\n",
    "\n",
    "Un peu plus compliqué:\n",
    "- Créer un masque ne correspondant qu'à la partie basse de l'image\n",
    "- L'utiliser pour calculer la moyenne, max, min, et somme\n",
    "- Inverser la partie basse de l'image\n",
    "\n",
    "\n",
    "\n",
    "Les fonctions qui peuvent vous être utiles sont: \n",
    "\n",
    "    display_image_nb, np.min, np.max, np.sum, np.mean, np.abs, np.shape, np.zeros, np.ones"
   ]
  },
  {
   "cell_type": "code",
   "execution_count": null,
   "metadata": {},
   "outputs": [],
   "source": []
  },
  {
   "cell_type": "markdown",
   "metadata": {},
   "source": [
    "## 2.2 Filtrage\n",
    "\n",
    "Filtrer l'image *image_nb* avec les filtres suivants :\n",
    "\n",
    "- un filtre moyenneur\n",
    "- un filtre laplacien\n",
    "- un filtre de Sobel\n",
    "- utiliser un filtre de canny pour extraire les contours\n",
    "\n",
    "Les fonctions qui peuvent vous être utiles sont:\n",
    "\n",
    "    scipy.ndimage.convolve, skimage.filters.sobel, skimage.feature.canny"
   ]
  },
  {
   "cell_type": "code",
   "execution_count": null,
   "metadata": {},
   "outputs": [],
   "source": [
    "image = skimage.data.camera()\n",
    "image_nb = skimage.color.rgb2grey(image)\n",
    "display_image_nb(image_nb)"
   ]
  },
  {
   "cell_type": "code",
   "execution_count": null,
   "metadata": {},
   "outputs": [],
   "source": [
    "\n"
   ]
  },
  {
   "cell_type": "markdown",
   "metadata": {
    "collapsed": true
   },
   "source": [
    "## 2.3 Opérateurs morphologiques\n",
    "\n",
    "À l'aide d'un élément structurant de type disk (3,3):\n",
    "\n",
    "\n",
    "- Effectuer une dilatation (morphological dilation)\n",
    "- Effecture une érosion (morphological erosion)\n",
    "- Effectuer une opération de fermeture (morphological closing)\n",
    "- Effecture une opération d'ouverture (morphological opening)\n",
    "\n",
    "les fonctions qui peuvent vous être utiles:\n",
    "\n",
    "    skimage.morphology.disk, skimage.morphology.opening, skimage.morphology.closing, skimage.morphology.dilate, skimage.morphology.erosion"
   ]
  },
  {
   "cell_type": "code",
   "execution_count": null,
   "metadata": {},
   "outputs": [],
   "source": []
  },
  {
   "cell_type": "markdown",
   "metadata": {},
   "source": [
    "## 3. Application\n",
    "\n",
    "Le but de cette section est de mettre en application les différentes techniques que vous avez vu jusqu'à présent.\n",
    "\n",
    "Objectif: détecter où se trouve le ballon dans l'image suivante\n",
    "\n",
    "![alt text](./images/red_ball.png \"image to find\")\n",
    "\n",
    "\n",
    "Cette image est extraite du jeu de données disponible sur le site: http://www.iai.uni-bonn.de/~kleind/tracking/index.htm.\n",
    "Nous aurons l'occasion de réutiliser ce type de jeu de données dans les prochains TPs.\n",
    "\n",
    "\n",
    "Votre objectif\n",
    "\n",
    "    - Trouver où se trouve la balle dans l'image\n",
    "    \n",
    "    \n",
    "Un exemple de résultat: \n",
    "\n",
    "\n",
    "![alt text](./images/red_ball_result.png \"good result\")\n",
    "\n",
    "    \n",
    "Voici une liste de fonction qui peut vous être utile:\n",
    "\n",
    "     skimage.segmentation.mark_boundaries, skimage.color.rgb2lab, skimage.segmentation.clear_border, skimage.morphology.erosion, dilation, opening, closing, skimage.measure.label, skimage.measure.regionprops\n",
    "     \n",
    "     \n",
    "C'est parti.\n",
    "\n",
    "\n"
   ]
  },
  {
   "cell_type": "code",
   "execution_count": null,
   "metadata": {},
   "outputs": [],
   "source": [
    "image = imageio.imread('./images/red_ball.png')\n",
    "display_image_color(image)"
   ]
  },
  {
   "cell_type": "code",
   "execution_count": null,
   "metadata": {},
   "outputs": [],
   "source": []
  },
  {
   "cell_type": "markdown",
   "metadata": {},
   "source": [
    "## Bonus:\n",
    "\n",
    "- Calculer l'histogramme de l'image chelsea (skimage.data.chelsea())\n",
    "\n",
    "ressources:\n",
    "\n",
    " - http://scikit-image.org/docs/dev/auto_examples/plot_windowed_histogram.html\n",
    " "
   ]
  },
  {
   "cell_type": "code",
   "execution_count": null,
   "metadata": {},
   "outputs": [],
   "source": []
  },
  {
   "cell_type": "markdown",
   "metadata": {},
   "source": [
    "## Bonus bis:\n",
    "\n",
    "Charger l'image coins (skimage.data.coins())\n",
    "\n",
    "- Afficher la pièce de la première colonne, dernière ligne.\n",
    "- Calculer l'histogramme correspondant à cette pièce.\n",
    "- Calculer l'histogramme normalisé correspondant à cette pièce, et l'afficher à l'aide d'un graphique.\n"
   ]
  },
  {
   "cell_type": "code",
   "execution_count": null,
   "metadata": {},
   "outputs": [],
   "source": []
  },
  {
   "cell_type": "code",
   "execution_count": null,
   "metadata": {},
   "outputs": [],
   "source": []
  }
 ],
 "metadata": {
  "celltoolbar": "Slideshow",
  "kernelspec": {
   "display_name": "Python 3",
   "language": "python",
   "name": "python3"
  },
  "language_info": {
   "codemirror_mode": {
    "name": "ipython",
    "version": 3
   },
   "file_extension": ".py",
   "mimetype": "text/x-python",
   "name": "python",
   "nbconvert_exporter": "python",
   "pygments_lexer": "ipython3",
   "version": "3.7.4"
  }
 },
 "nbformat": 4,
 "nbformat_minor": 1
}
